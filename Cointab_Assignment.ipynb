{
 "cells": [
  {
   "cell_type": "code",
   "execution_count": 1,
   "id": "91c9a730",
   "metadata": {},
   "outputs": [],
   "source": [
    "# Importing required libraries and data from Github repository\n",
    "\n",
    "import pandas as pd\n",
    "\n",
    "import numpy as np"
   ]
  },
  {
   "cell_type": "code",
   "execution_count": 2,
   "id": "9d91e3ce",
   "metadata": {},
   "outputs": [],
   "source": [
    "# Reading necessary files\n",
    "\n",
    "ord_report=pd.read_excel(r\"D:/Wednesday/Company X - Order Report.xlsx\")\n",
    "\n",
    "pin_code=pd.read_excel(r\"D:/Wednesday/Company X - Pincode Zones.xlsx\")\n",
    "\n",
    "sku_master=pd.read_excel(r\"D:/Wednesday/Company X - SKU Master.xlsx\")\n",
    "\n",
    "invoice=pd.read_excel(r\"D:/Wednesday/Courier Company - Invoice.xlsx\")\n",
    "\n",
    "rate=pd.read_excel(r\"D:/Wednesday/Courier Company - Rates.xlsx\")"
   ]
  },
  {
   "cell_type": "code",
   "execution_count": 3,
   "id": "f9a0b018",
   "metadata": {},
   "outputs": [],
   "source": [
    "# Creating an empty dataframe\n",
    "\n",
    "df=pd.DataFrame()"
   ]
  },
  {
   "cell_type": "code",
   "execution_count": 4,
   "id": "ac08e49b",
   "metadata": {},
   "outputs": [],
   "source": [
    "# Adding Order ID and AWB Number to df\n",
    "\n",
    "df[\"Order Id\"]= invoice[\"Order ID\"]\n",
    "\n",
    "df[\"AWB Number\"]=invoice[\"AWB Code\"]"
   ]
  },
  {
   "cell_type": "code",
   "execution_count": 5,
   "id": "1edf7f9c",
   "metadata": {},
   "outputs": [],
   "source": [
    "# Merging dataframes ord_report and sku_master based on SKU column\n",
    "\n",
    "merge = pd.merge(ord_report,sku_master,on=\"SKU\")"
   ]
  },
  {
   "cell_type": "code",
   "execution_count": 6,
   "id": "0ba15a28",
   "metadata": {},
   "outputs": [],
   "source": [
    "# Calculating total weight of the order in kg\n",
    "\n",
    "merge[\"Total weight as per X (KG)\"]=((merge['Order Qty']*merge[\"Weight (g)\"])/1000)"
   ]
  },
  {
   "cell_type": "code",
   "execution_count": 7,
   "id": "0fa9ee57",
   "metadata": {},
   "outputs": [],
   "source": [
    "# Renaming column 'ExternOrderNo' to 'Order Id'\n",
    "\n",
    "merge.rename(columns = {'ExternOrderNo':'Order Id'}, inplace = True)"
   ]
  },
  {
   "cell_type": "code",
   "execution_count": 8,
   "id": "fa49c10b",
   "metadata": {},
   "outputs": [],
   "source": [
    "# Creating a pivot table to summarize the order details based on Order Id\n",
    "\n",
    "pivot_df=pd.pivot_table(merge,index=\"Order Id\",aggfunc=\"sum\")\n",
    "\n",
    "pivot_df.reset_index(inplace=True)"
   ]
  },
  {
   "cell_type": "code",
   "execution_count": 9,
   "id": "8a99f3ad",
   "metadata": {},
   "outputs": [],
   "source": [
    "# Merging the pivot table with df based on Order Id\n",
    "\n",
    "df=pd.merge(df,pivot_df,on=\"Order Id\")"
   ]
  },
  {
   "cell_type": "code",
   "execution_count": 10,
   "id": "101004f5",
   "metadata": {},
   "outputs": [],
   "source": [
    "# Assigning weight slab based on the total weight of the order\n",
    "\n",
    "def assign_weight_slab(x):\n",
    "    if x <= 0.5:\n",
    "        return 0.5\n",
    "    elif x < 1.0:\n",
    "        return 1.0\n",
    "    elif x < 1.5:\n",
    "        return 1.5\n",
    "    elif x < 2.0:\n",
    "        return 2.0\n",
    "    elif x < 2.5:\n",
    "      return 2.5\n",
    "    elif x < 3:\n",
    "      return 3\n",
    "    elif x < 3.5:\n",
    "      return 3.5\n",
    "    elif x < 4:\n",
    "      return 4\n",
    "    elif x < 4.5:\n",
    "      return 4.5\n",
    "    else:\n",
    "        return 5"
   ]
  },
  {
   "cell_type": "code",
   "execution_count": 11,
   "id": "b8564ac7",
   "metadata": {},
   "outputs": [],
   "source": [
    "# Adding 'Weight slab as per X (KG)' to df\n",
    "\n",
    "df['Weight slab as per X (KG)'] = df['Total weight as per X (KG)'].apply(assign_weight_slab)"
   ]
  },
  {
   "cell_type": "code",
   "execution_count": 12,
   "id": "fadea23d",
   "metadata": {},
   "outputs": [],
   "source": [
    "# Adding 'Total weight as per Courier Company (KG)' and 'Weight slab charged by Courier Company (KG)' to df\n",
    "\n",
    "df[\"Total weight as per Courier Company (KG)\"]=invoice[\"Charged Weight\"]\n",
    "\n",
    "df[\"Weight slab charged by Courier Company (KG)\"]=df[\"Total weight as per Courier Company (KG)\"].apply(assign_weight_slab)"
   ]
  },
  {
   "cell_type": "code",
   "execution_count": 13,
   "id": "7ff0ea61",
   "metadata": {},
   "outputs": [],
   "source": [
    "#Merging the dataframes based on Customer Pincode and adding a Zone column\n",
    "\n",
    "for_pin=invoice.drop([\"AWB Code\",\"Type of Shipment\",\"Warehouse Pincode\",\"Charged Weight\",\"Billing Amount (Rs.)\",'Type of Shipment',\"Zone\"],axis=1)\n",
    "\n",
    "merge2=pd.merge(pin_code,for_pin,on=\"Customer Pincode\",)\n",
    "\n",
    "pin_1=merge2.drop_duplicates()\n",
    "\n",
    "pin_1.reset_index(inplace=True)\n",
    "\n",
    "pin_1=pin_1.drop([\"index\"],axis=1)\n",
    "\n",
    "pin_1.rename(columns = {'Order ID':'Order Id'}, inplace = True)\n",
    "\n",
    "merge_3=pd.merge(df,pin_1,on=\"Order Id\")\n",
    "\n",
    "merge_3[\"Zone\"]=merge_3[\"Zone\"].str.upper()"
   ]
  },
  {
   "cell_type": "code",
   "execution_count": 14,
   "id": "9d0e8fba",
   "metadata": {},
   "outputs": [],
   "source": [
    "#Dropping unnecessary columns and adding courier company's zone to the dataframe\n",
    "\n",
    "df=merge_3.drop(['Warehouse Pincode','Customer Pincode'],axis=1)\n",
    "\n",
    "df[\"Delivery Zone charged by Courier Company\"]=invoice[\"Zone\"].str.upper()"
   ]
  },
  {
   "cell_type": "code",
   "execution_count": 15,
   "id": "09525f03",
   "metadata": {},
   "outputs": [],
   "source": [
    "#Creating a new dataframe with columns Type, Order ID, AWB Code, Customer Pincode, company zone, original zone and weight\n",
    "\n",
    "price=pd.DataFrame()\n",
    "\n",
    "price['Type'] = invoice['Type of Shipment'].apply(lambda x: '1' if x == \"Forward charges\" else '2')\n",
    "\n",
    "price[\"Order ID\"]=invoice[\"Order ID\"]\n",
    "\n",
    "price['AWB Code']=invoice[\"AWB Code\"]\n",
    "\n",
    "price[\"Customer Pincode\"]=invoice['Customer Pincode']\n",
    "\n",
    "price[\"company zone\"]=invoice[\"Zone\"]\n",
    "\n",
    "price[\"original zone\"]=pin_code[\"Zone\"]\n",
    "\n",
    "price[\"weight\"]=df[\"Weight slab as per X (KG)\"]"
   ]
  },
  {
   "cell_type": "code",
   "execution_count": 16,
   "id": "e121eee2",
   "metadata": {},
   "outputs": [],
   "source": [
    "#Function to calculate the expected charge based on Type, original zone and weight\n",
    "\n",
    "def rate(Type, original_zone, weight):\n",
    "    if Type == '1':\n",
    "        if original_zone == \"b\":\n",
    "            if weight == 0.5:\n",
    "                return 33\n",
    "            else:\n",
    "                return ((((weight)/0.5)-1)*28.3)+33\n",
    "        elif original_zone == \"d\":\n",
    "            if weight == 0.5:\n",
    "                return 45.4\n",
    "            else:\n",
    "                return ((((weight)/0.5)-1)*44.8)+45.4\n",
    "        elif original_zone == \"e\":\n",
    "            if weight == 0.5:\n",
    "                return 56.6\n",
    "            else:\n",
    "                return ((((weight)/0.5)-1)*55.5)+56.6\n",
    "\n",
    "    elif Type == '2':\n",
    "        if original_zone == \"b\":\n",
    "            if weight == 0.5:\n",
    "                return 20.5+33\n",
    "            else:\n",
    "                return ((((weight)/0.5)-1)*20.5)+20.5+((((weight)/0.5)-1)*28.3)+33\n",
    "        elif original_zone == \"d\":\n",
    "            if weight == 0.5:\n",
    "                return 41.3+45.4\n",
    "            else:\n",
    "                return ((((weight)/0.5)-1)*44.8)+41.3+((((weight)/0.5)-1)*48.8)+45.4\n",
    "        elif original_zone == \"e\":\n",
    "            if weight == 0.5:\n",
    "                return 50.7+56.6\n",
    "            else:\n",
    "                return ((((weight)/0.5)-1)*55.5)+50.7+((((weight)/0.5)-1)*55.5)+56.6"
   ]
  },
  {
   "cell_type": "code",
   "execution_count": 17,
   "id": "8abf1a61",
   "metadata": {},
   "outputs": [],
   "source": [
    "#Calculate expected charges for each order based on its Type, original zone, and weight using a custom rate function\n",
    "\n",
    "df['Expected Charge as per X (Rs.)'] = price.apply(lambda row: rate(row['Type'], row['original zone'], row['weight']), axis=1)"
   ]
  },
  {
   "cell_type": "code",
   "execution_count": 18,
   "id": "47602216",
   "metadata": {},
   "outputs": [],
   "source": [
    "#Rename columns in invoice dataframe and drop unnecessary columns\n",
    "\n",
    "invoice.rename(columns={\"Order ID\":\"Order Id\"},inplace=True)\n",
    "\n",
    "invoice.rename(columns={\"Billing Amount (Rs.)\":\"Charges Billed by Courier Company (Rs.) \"},inplace=True)\n",
    "\n",
    "bill=invoice.drop(columns=[\"AWB Code\",\"Charged Weight\",\"Warehouse Pincode\",\"Customer Pincode\",\"Type of Shipment\",\"Zone\"],axis=1)\n",
    "\n",
    "df=pd.merge(df,bill,on=\"Order Id\")"
   ]
  },
  {
   "cell_type": "code",
   "execution_count": 19,
   "id": "8f41e384",
   "metadata": {},
   "outputs": [],
   "source": [
    "#Calculate difference between expected and billed charges for each order\n",
    "\n",
    "df[\"Difference Between Expected Charges and Billed Charges (Rs.)\"]=df[\"Expected Charge as per X (Rs.)\"]-df[\"Charges Billed by Courier Company (Rs.) \"]"
   ]
  },
  {
   "cell_type": "code",
   "execution_count": 20,
   "id": "946892e5",
   "metadata": {},
   "outputs": [],
   "source": [
    "#Create new columns to identify correct, overcharged, and undercharged orders\n",
    "\n",
    "df1=df\n",
    "\n",
    "df['correct values'] =(df['Expected Charge as per X (Rs.)'] == df['Charges Billed by Courier Company (Rs.) ']).astype(int)\n",
    "\n",
    "df['undercharged'] = (df['Charges Billed by Courier Company (Rs.) '] - df['Expected Charge as per X (Rs.)']).where(df['Expected Charge as per X (Rs.)'] < df['Charges Billed by Courier Company (Rs.) '], 0)\n",
    "\n",
    "df['overcharged']=(df['Expected Charge as per X (Rs.)'] - df['Charges Billed by Courier Company (Rs.) ']).where(df['Expected Charge as per X (Rs.)'] > df['Charges Billed by Courier Company (Rs.) '], 0)"
   ]
  },
  {
   "cell_type": "code",
   "execution_count": 21,
   "id": "5ff64d01",
   "metadata": {},
   "outputs": [],
   "source": [
    "#Compute summary statistics\n",
    "\n",
    "num_equal = (df['Expected Charge as per X (Rs.)'] == df['Charges Billed by Courier Company (Rs.) ']).sum()\n",
    "\n",
    "less_than=(df['Expected Charge as per X (Rs.)'] < df['Charges Billed by Courier Company (Rs.) ']).sum()\n",
    "\n",
    "greater_than=(df['Expected Charge as per X (Rs.)'] > df['Charges Billed by Courier Company (Rs.) ']).sum()"
   ]
  },
  {
   "cell_type": "code",
   "execution_count": 22,
   "id": "e151b897",
   "metadata": {},
   "outputs": [],
   "source": [
    "#Create summary table dataframe\n",
    "\n",
    "summary_table=pd.DataFrame(columns=[\"summary\",\"Count\",\"Amount(Rs.)\"])\n",
    "\n",
    "corrected = pd.DataFrame({'summary': 'Total orders where X has been correctly charged',\n",
    "                        'Count': num_equal ,\n",
    "                        'Amount(Rs.)': df[\"Charges Billed by Courier Company (Rs.) \"].sum()}, index=[0])\n",
    "\n",
    "greaterthan= pd.DataFrame({'summary': 'Total Orders where X has been overcharged',\n",
    "                        'Count': greater_than ,\n",
    "                        'Amount(Rs.)': df[\"overcharged\"].sum()}, index=[1])\n",
    "\n",
    "lessthan = pd.DataFrame({'summary': 'Total Orders where X has been undercharged',\n",
    "                        'Count': less_than,\n",
    "                        'Amount(Rs.)': df[\"undercharged\"].sum()}, index=[2])\n",
    "\n",
    "summary_table = pd.concat([summary_table, corrected,greaterthan,lessthan], ignore_index=True)"
   ]
  },
  {
   "cell_type": "code",
   "execution_count": 23,
   "id": "c0537e0b",
   "metadata": {},
   "outputs": [],
   "source": [
    "#Export final dataframe and summary table to csv files\n",
    "\n",
    "df.to_csv(\"D:/Wednesday/order_level_calculation.csv\")\n",
    "\n",
    "summary_table.to_csv(\"D:/Wednesday/summary_table.csv\")"
   ]
  }
 ],
 "metadata": {
  "kernelspec": {
   "display_name": "Python 3 (ipykernel)",
   "language": "python",
   "name": "python3"
  },
  "language_info": {
   "codemirror_mode": {
    "name": "ipython",
    "version": 3
   },
   "file_extension": ".py",
   "mimetype": "text/x-python",
   "name": "python",
   "nbconvert_exporter": "python",
   "pygments_lexer": "ipython3",
   "version": "3.9.13"
  }
 },
 "nbformat": 4,
 "nbformat_minor": 5
}
